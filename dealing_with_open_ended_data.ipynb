{
 "cells": [
  {
   "cell_type": "markdown",
   "metadata": {},
   "source": [
    "# Dealing With Open Ended Data"
   ]
  },
  {
   "cell_type": "code",
   "execution_count": null,
   "metadata": {
    "collapsed": false
   },
   "outputs": [],
   "source": [
    "!ls"
   ]
  },
  {
   "cell_type": "markdown",
   "metadata": {},
   "source": [
    "Let's use the commandline `head` function to determine what the column headers for our data are. This will allow us to fetch the column number of the column we are interested in investigating. The value defined for the `-n` argument is the number of rows that we want to print out. In this case, it is only one row so we pass an argument of 1."
   ]
  },
  {
   "cell_type": "code",
   "execution_count": null,
   "metadata": {
    "collapsed": false
   },
   "outputs": [],
   "source": [
    "!head -n 1 data/crimes.csv"
   ]
  },
  {
   "cell_type": "markdown",
   "metadata": {},
   "source": [
    "We want to fetch information about the unique points in column 8. That's what the `-f` argument in the command below describes. The `-d` argument allows us to specify the parameter. The first part of our query, the part before the first `|`, allows us to extract the 8th row of data from the file. The second part of the command sorts this data, the third extracts out the unique values, and the last return the number of unique values that were found."
   ]
  },
  {
   "cell_type": "code",
   "execution_count": null,
   "metadata": {
    "collapsed": false
   },
   "outputs": [],
   "source": [
    "!cut -d \",\" -f 8 data/crimes.csv | sort | uniq | wc -l"
   ]
  },
  {
   "cell_type": "markdown",
   "metadata": {},
   "source": [
    "So it looks like we have 131 unique values in our Location Description column. What are those unique values? Well, to do that we just truncate the last part of our command out."
   ]
  },
  {
   "cell_type": "code",
   "execution_count": null,
   "metadata": {
    "collapsed": true
   },
   "outputs": [],
   "source": [
    "!cut -d \",\" -f 8 data/crimes.csv | sort | uniq"
   ]
  },
  {
   "cell_type": "markdown",
   "metadata": {
    "collapsed": true
   },
   "source": [
    "Now let's see if we can get a count of each of the unique values in the Location Description."
   ]
  },
  {
   "cell_type": "code",
   "execution_count": null,
   "metadata": {
    "collapsed": false
   },
   "outputs": [],
   "source": [
    "!awk -F ',' '{print $8}' data/crimes.csv | sort | uniq -c | sort -nr"
   ]
  },
  {
   "cell_type": "markdown",
   "metadata": {},
   "source": [
    "Let's dissect this command a little bit. The `-F` alows us to dictate the delimiter that we are using and the `{print $8}` allows us to dictate that we want the awk command to print out the 8th column of the crimes file to the commands that is piped to. Again, sort operates on a lexical sort. What does the `-c` in the `uniq` command specify? It allows us to print out the number of times that each unique value occured. The last sort command allows us to sort the columns by the number of times they occur. In this particular case, the `n` allows us to sort on numerical values and the `r` sorts in reverse order."
   ]
  },
  {
   "cell_type": "markdown",
   "metadata": {},
   "source": [
    "It looks like we have some missing data in our dataset, similar to what we did with the latitude and longitude values, let's fill in these missing values with an artificial value. In this particular case, we'll categorize any missing values with the description \"STREET\" which corresponds with the most popular entry in this particular data set."
   ]
  },
  {
   "cell_type": "code",
   "execution_count": null,
   "metadata": {
    "collapsed": true
   },
   "outputs": [],
   "source": [
    "!awk -F ',' '{if ($8 == \"\") print $8;}' data/crimes.csv | wc -l"
   ]
  },
  {
   "cell_type": "markdown",
   "metadata": {},
   "source": [
    "Now in this particular case we are using the `awk` command again but notice that we filter out the data and print the value in the 8th column only if it is empty. We then pipe this output to `wc -l` which counts the number of lines in a file."
   ]
  },
  {
   "cell_type": "markdown",
   "metadata": {},
   "source": [
    "### Tagging By Freeform Content"
   ]
  },
  {
   "cell_type": "markdown",
   "metadata": {},
   "source": [
    "Now that we have done some preliminary file cleaning at the command-line, let's pop back into Python and pandas to take care of the remaining tasks. Mainly, we'll be tagging each of the data points with a keyword that corresponds to a keyword found in the freeform entry."
   ]
  },
  {
   "cell_type": "code",
   "execution_count": 2,
   "metadata": {
    "collapsed": true
   },
   "outputs": [],
   "source": [
    "import pandas as pd"
   ]
  },
  {
   "cell_type": "code",
   "execution_count": 3,
   "metadata": {
    "collapsed": false
   },
   "outputs": [],
   "source": [
    "crimes = pd.read_csv('data/crimes.csv')"
   ]
  },
  {
   "cell_type": "markdown",
   "metadata": {},
   "source": [
    "Let's start off by filling in the missing location description values with the default value \"STREET\"."
   ]
  },
  {
   "cell_type": "code",
   "execution_count": 6,
   "metadata": {
    "collapsed": true
   },
   "outputs": [],
   "source": [
    "crimes['Location Description'] = crimes['Location Description'].fillna(\"STREET\")"
   ]
  },
  {
   "cell_type": "markdown",
   "metadata": {
    "collapsed": true
   },
   "source": [
    "Now let's isolate the columns that relate to incidents that occurred on CTA property and tag them appropriately."
   ]
  },
  {
   "cell_type": "code",
   "execution_count": 8,
   "metadata": {
    "collapsed": false
   },
   "outputs": [],
   "source": [
    "crimes.loc[crimes['Location Description'].str.contains('CTA'), \"Location_Tag\"] = \"CTA\""
   ]
  },
  {
   "cell_type": "markdown",
   "metadata": {},
   "source": [
    "Now you try! Create a tag that evaluates if the \"Location Description\" contains home-related terms such as \"Residence\" or \"Apartment\" and tag them appropriately."
   ]
  }
 ],
 "metadata": {
  "kernelspec": {
   "display_name": "Python 3",
   "language": "python",
   "name": "python3"
  },
  "language_info": {
   "codemirror_mode": {
    "name": "ipython",
    "version": 3
   },
   "file_extension": ".py",
   "mimetype": "text/x-python",
   "name": "python",
   "nbconvert_exporter": "python",
   "pygments_lexer": "ipython3",
   "version": "3.5.1"
  }
 },
 "nbformat": 4,
 "nbformat_minor": 1
}
