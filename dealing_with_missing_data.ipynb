{
 "cells": [
  {
   "cell_type": "markdown",
   "metadata": {},
   "source": [
    "# Dealing with Missing Data"
   ]
  },
  {
   "cell_type": "markdown",
   "metadata": {},
   "source": [
    "### Imports\n",
    "Let's go ahead and important the libraries we will need. In this particular instance, we will be relying on `pandas`, a popular data analytics library in the Python programming langauge."
   ]
  },
  {
   "cell_type": "code",
   "execution_count": null,
   "metadata": {
    "collapsed": true
   },
   "outputs": [],
   "source": [
    "import pandas as pd\n",
    "import matplotlib.pyplot as plt\n",
    "%matplotlib inline"
   ]
  },
  {
   "cell_type": "markdown",
   "metadata": {},
   "source": [
    "### Data Loading\n",
    "Now that we've imported all the tools we will need, we will need to load our data into a tabular data representation, known as a DataFrame. In this particular exercise, we will be using data recording by the Chicago Police Department. The data contains a collection of crimes that have been committed in the city of Chicago since January 1st, 2015. Note, that I filtered data based on this date myself. You can find the data in `data/crimes.csv`."
   ]
  },
  {
   "cell_type": "code",
   "execution_count": null,
   "metadata": {
    "collapsed": false
   },
   "outputs": [],
   "source": [
    "crimes = pd.read_csv(\"data/crimes.csv\")"
   ]
  },
  {
   "cell_type": "code",
   "execution_count": null,
   "metadata": {
    "collapsed": false
   },
   "outputs": [],
   "source": [
    "crimes.head(5)"
   ]
  },
  {
   "cell_type": "markdown",
   "metadata": {},
   "source": [
    "### Identifying Columns with Missing Data\n",
    "Now that we have loaded our data, we will need to execute some queries on the data to determine which rows contain missing data."
   ]
  },
  {
   "cell_type": "code",
   "execution_count": null,
   "metadata": {
    "collapsed": false
   },
   "outputs": [],
   "source": [
    "crimes.isnull().sum()"
   ]
  },
  {
   "cell_type": "markdown",
   "metadata": {},
   "source": [
    "Yikes! Looks like we've got quite a problem with our longitudinal and latitudianl data. We are going to need to fix that!"
   ]
  },
  {
   "cell_type": "code",
   "execution_count": null,
   "metadata": {
    "collapsed": false
   },
   "outputs": [],
   "source": [
    "missing_lat_lng = crimes[crimes.Latitude.isnull()]"
   ]
  },
  {
   "cell_type": "code",
   "execution_count": null,
   "metadata": {
    "collapsed": false
   },
   "outputs": [],
   "source": [
    "missing_lat_lng.head(5)"
   ]
  },
  {
   "cell_type": "markdown",
   "metadata": {},
   "source": [
    "That's a fair amount of data! Let's find out which percentage of the data set contains missing latitude and longitude values. That is to say, if we decide to omit these rows from our data set, how much are we losing?"
   ]
  },
  {
   "cell_type": "code",
   "execution_count": null,
   "metadata": {
    "collapsed": false
   },
   "outputs": [],
   "source": [
    "(len(missing_lat_lng.index) / len(crimes.index)) * 100"
   ]
  },
  {
   "cell_type": "markdown",
   "metadata": {},
   "source": [
    "So we would have to drop a little under 2% of our data. That's not consequential. But let's assume that we do want to retain the missing data and try to fill the values. But first, let's think a little bit about _why_ this might be the case. What about the way the data is collected might result in this? Is this data missing at random or not? Let's find out by extracting the rows where the latitude and longitude values are missing and plotting when they occur!"
   ]
  },
  {
   "cell_type": "code",
   "execution_count": null,
   "metadata": {
    "collapsed": false
   },
   "outputs": [],
   "source": [
    "missing_lat_lng['Date'] = pd.to_datetime(missing_lat_lng['Date'])"
   ]
  },
  {
   "cell_type": "code",
   "execution_count": null,
   "metadata": {
    "collapsed": false
   },
   "outputs": [],
   "source": [
    "missing_lat_lng.set_index('Date').resample('D', how='count').plot(y = 'ID')"
   ]
  },
  {
   "cell_type": "markdown",
   "metadata": {
    "collapsed": true
   },
   "source": [
    "So it appears that there are a couple of crimes that get reported without any latitudes or longitudes throughout the month. There is a rather interesting spike in crimes that don't have latitude and longitude data through winter and spring of 2016. This is something that we should take note of and investigate further. For now, let's assume that we are going to fill in our missing values with artificial data, and account for the fact that it is artifical."
   ]
  },
  {
   "cell_type": "markdown",
   "metadata": {},
   "source": [
    "### Filling In With Artificial Data"
   ]
  },
  {
   "cell_type": "markdown",
   "metadata": {},
   "source": [
    "Let's fill in some of the data with artifical latitude and longitude values. In this specific case, these values will be the latitude and longitude of the city, specifically (41.8781136, -87.6297982). We'll also add a column to our data set that represents whether or not the latitude and longitude of the row are artificial."
   ]
  },
  {
   "cell_type": "code",
   "execution_count": null,
   "metadata": {
    "collapsed": true
   },
   "outputs": [],
   "source": [
    "latitude = 41.8781136\n",
    "longitude = -87.6297982"
   ]
  },
  {
   "cell_type": "code",
   "execution_count": null,
   "metadata": {
    "collapsed": false
   },
   "outputs": [],
   "source": [
    "crimes['Latitude'] = crimes['Latitude'].fillna(latitude)"
   ]
  },
  {
   "cell_type": "code",
   "execution_count": null,
   "metadata": {
    "collapsed": true
   },
   "outputs": [],
   "source": [
    "crimes['Longitude'] = crimes['Longitude'].fillna(latitude)"
   ]
  },
  {
   "cell_type": "code",
   "execution_count": null,
   "metadata": {
    "collapsed": true
   },
   "outputs": [],
   "source": [
    "crimes['Artificial'] = crimes['Location'].fillna(True)"
   ]
  },
  {
   "cell_type": "code",
   "execution_count": null,
   "metadata": {
    "collapsed": false
   },
   "outputs": [],
   "source": [
    "crimes['Location'] = crimes['Location'].fillna('(' + str(latitude) +  ',' + str(longitude) + ')')"
   ]
  },
  {
   "cell_type": "code",
   "execution_count": null,
   "metadata": {
    "collapsed": false
   },
   "outputs": [],
   "source": [
    "crimes.isnull().sum()"
   ]
  },
  {
   "cell_type": "code",
   "execution_count": null,
   "metadata": {
    "collapsed": false
   },
   "outputs": [],
   "source": [
    "crimes.head(10)"
   ]
  },
  {
   "cell_type": "markdown",
   "metadata": {},
   "source": [
    "### Filling In With Approximate Data"
   ]
  },
  {
   "cell_type": "markdown",
   "metadata": {},
   "source": [
    "This particular section will be left as an exercise to the reader. While the latitude and longitude values are missing for some rows, the block of each criminal occurence is not. We can use this data and a geocoding API to fill in the missing values with approximate data. Follow the instructions below to complete this task."
   ]
  },
  {
   "cell_type": "markdown",
   "metadata": {},
   "source": [
    "Need help while working on this section? Send an email to safia@safia.rocks!"
   ]
  },
  {
   "cell_type": "markdown",
   "metadata": {},
   "source": [
    "**1. Create a copy of the 'Block' column where the 'X's in the building number are replaced with 0s.**"
   ]
  }
 ],
 "metadata": {
  "kernelspec": {
   "display_name": "Python 3",
   "language": "python",
   "name": "python3"
  },
  "language_info": {
   "codemirror_mode": {
    "name": "ipython",
    "version": 3
   },
   "file_extension": ".py",
   "mimetype": "text/x-python",
   "name": "python",
   "nbconvert_exporter": "python",
   "pygments_lexer": "ipython3",
   "version": "3.5.1"
  }
 },
 "nbformat": 4,
 "nbformat_minor": 1
}
